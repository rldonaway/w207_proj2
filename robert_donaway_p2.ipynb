{
 "cells": [
  {
   "cell_type": "markdown",
   "metadata": {
    "colab_type": "text",
    "id": "6t55qCf3Fsxa"
   },
   "source": [
    "# Project 2: Topic Classification"
   ]
  },
  {
   "cell_type": "markdown",
   "metadata": {
    "colab_type": "text",
    "id": "j9-9G8z4Fsxd"
   },
   "source": [
    "In this project, you'll work with text data from newsgroup posts on a variety of topics. You'll train classifiers to distinguish posts by topics inferred from the text. Whereas with digit classification, where each input is relatively dense (represented as a 28x28 matrix of pixels, many of which are non-zero), here each document is relatively sparse (represented as a bag-of-words). Only a few words of the total vocabulary are active in any given document. The assumption is that a label depends only on the count of words, not their order.\n",
    "\n",
    "The `sklearn` documentation on feature extraction may be useful:\n",
    "http://scikit-learn.org/stable/modules/feature_extraction.html\n",
    "\n",
    "Each problem can be addressed succinctly with the included packages -- please don't add any more. Grading will be based on writing clean, commented code, along with a few short answers.\n",
    "\n",
    "As always, you're welcome to work on the project in groups and discuss ideas on Slack, but <b> please prepare your own write-up with your own code. </b>"
   ]
  },
  {
   "cell_type": "code",
   "execution_count": 1,
   "metadata": {
    "colab": {},
    "colab_type": "code",
    "id": "AUYW83LqFsxd"
   },
   "outputs": [],
   "source": [
    "# This tells matplotlib not to try opening a new window for each plot.\n",
    "%matplotlib inline\n",
    "\n",
    "# General libraries.\n",
    "import re\n",
    "import numpy as np\n",
    "import matplotlib.pyplot as plt\n",
    "\n",
    "# SK-learn libraries for learning.\n",
    "from sklearn.pipeline import Pipeline\n",
    "from sklearn.neighbors import KNeighborsClassifier\n",
    "from sklearn.linear_model import LogisticRegression\n",
    "from sklearn.naive_bayes import BernoulliNB\n",
    "from sklearn.naive_bayes import MultinomialNB\n",
    "\n",
    "# SK-learn libraries for evaluation.\n",
    "from sklearn.metrics import confusion_matrix\n",
    "from sklearn import metrics\n",
    "from sklearn.metrics import classification_report\n",
    "from sklearn.metrics import f1_score\n",
    "\n",
    "# SK-learn library for importing the newsgroup data.\n",
    "from sklearn.datasets import fetch_20newsgroups\n",
    "\n",
    "# SK-learn libraries for feature extraction from text.\n",
    "from sklearn.feature_extraction.text import *\n",
    "\n",
    "import nltk"
   ]
  },
  {
   "cell_type": "markdown",
   "metadata": {
    "colab_type": "text",
    "id": "_ALNjGgCFsxg"
   },
   "source": [
    "Load the data, stripping out metadata so that only textual features will be used, and restricting documents to 4 specific topics. By default, newsgroups data is split into training and test sets, but here the test set gets further split into development and test sets.  (If you remove the categories argument from the fetch function calls, you'd get documents from all 20 topics.)"
   ]
  },
  {
   "cell_type": "code",
   "execution_count": 2,
   "metadata": {
    "colab": {},
    "colab_type": "code",
    "id": "ecYpcoxaFsxh"
   },
   "outputs": [
    {
     "name": "stdout",
     "output_type": "stream",
     "text": [
      "training label shape: (2034,)\n",
      "dev label shape: (676,)\n",
      "test label shape: (677,)\n",
      "labels names: ['alt.atheism', 'comp.graphics', 'sci.space', 'talk.religion.misc']\n"
     ]
    }
   ],
   "source": [
    "categories = ['alt.atheism', 'talk.religion.misc', 'comp.graphics', 'sci.space']\n",
    "newsgroups_train = fetch_20newsgroups(subset='train',\n",
    "                                      remove=('headers', 'footers', 'quotes'),\n",
    "                                      categories=categories)\n",
    "newsgroups_test  = fetch_20newsgroups(subset='test',\n",
    "                                      remove=('headers', 'footers', 'quotes'),\n",
    "                                      categories=categories)\n",
    "\n",
    "num_test = int(len(newsgroups_test.target) / 2)\n",
    "test_data, test_labels   = newsgroups_test.data[num_test:], newsgroups_test.target[num_test:]\n",
    "dev_data, dev_labels     = newsgroups_test.data[:num_test], newsgroups_test.target[:num_test]\n",
    "train_data, train_labels = newsgroups_train.data, newsgroups_train.target\n",
    "\n",
    "print('training label shape:', train_labels.shape)\n",
    "print('dev label shape:',      dev_labels.shape)\n",
    "print('test label shape:',     test_labels.shape)\n",
    "print('labels names:',         newsgroups_train.target_names)"
   ]
  },
  {
   "cell_type": "markdown",
   "metadata": {
    "colab_type": "text",
    "id": "OHTnOke6Fsxk"
   },
   "source": [
    "### Part 1:\n",
    "\n",
    "For each of the first 5 training examples, print the text of the message along with the label."
   ]
  },
  {
   "cell_type": "code",
   "execution_count": 3,
   "metadata": {
    "colab": {},
    "colab_type": "code",
    "id": "X8zhA06xFsxl"
   },
   "outputs": [
    {
     "name": "stdout",
     "output_type": "stream",
     "text": [
      "------------------------------------\n",
      "Hi,\n",
      "\n",
      "I've noticed that if you only save a model (with all your mapping planes\n",
      "positioned carefully) to a .3DS file that when you reload it after restarting\n",
      "3DS, they are given a default position and orientation.  But if you save\n",
      "to a .PRJ file their positions/orientation are preserved.  Does anyone\n",
      "know why this information is not stored in the .3DS file?  Nothing is\n",
      "explicitly said in the manual about saving texture rules in the .PRJ file. \n",
      "I'd like to be able to read the texture rule information, does anyone have \n",
      "the format for the .PRJ file?\n",
      "\n",
      "Is the .CEL file format available from somewhere?\n",
      "\n",
      "Rych\n",
      "------------------------------------\n",
      "LABEL comp.graphics\n",
      "------------------------------------\n",
      "------------------------------------\n",
      "\n",
      "\n",
      "Seems to be, barring evidence to the contrary, that Koresh was simply\n",
      "another deranged fanatic who thought it neccessary to take a whole bunch of\n",
      "folks with him, children and all, to satisfy his delusional mania. Jim\n",
      "Jones, circa 1993.\n",
      "\n",
      "\n",
      "Nope - fruitcakes like Koresh have been demonstrating such evil corruption\n",
      "for centuries.\n",
      "------------------------------------\n",
      "LABEL talk.religion.misc\n",
      "------------------------------------\n",
      "------------------------------------\n",
      "\n",
      " >In article <1993Apr19.020359.26996@sq.sq.com>, msb@sq.sq.com (Mark Brader) \n",
      "\n",
      "MB>                                                             So the\n",
      "MB> 1970 figure seems unlikely to actually be anything but a perijove.\n",
      "\n",
      "JG>Sorry, _perijoves_...I'm not used to talking this language.\n",
      "\n",
      "Couldn't we just say periapsis or apoapsis?\n",
      "\n",
      " \n",
      "------------------------------------\n",
      "LABEL sci.space\n",
      "------------------------------------\n",
      "------------------------------------\n",
      "I have a request for those who would like to see Charley Wingate\n",
      "respond to the \"Charley Challenges\" (and judging from my e-mail, there\n",
      "appear to be quite a few of you.)  \n",
      "\n",
      "It is clear that Mr. Wingate intends to continue to post tangential or\n",
      "unrelated articles while ingoring the Challenges themselves.  Between\n",
      "the last two re-postings of the Challenges, I noted perhaps a dozen or\n",
      "more posts by Mr. Wingate, none of which answered a single Challenge.  \n",
      "\n",
      "It seems unmistakable to me that Mr. Wingate hopes that the questions\n",
      "will just go away, and he is doing his level best to change the\n",
      "subject.  Given that this seems a rather common net.theist tactic, I\n",
      "would like to suggest that we impress upon him our desire for answers,\n",
      "in the following manner:\n",
      "\n",
      "1. Ignore any future articles by Mr. Wingate that do not address the\n",
      "Challenges, until he answers them or explictly announces that he\n",
      "refuses to do so.\n",
      "\n",
      "--or--\n",
      "\n",
      "2. If you must respond to one of his articles, include within it\n",
      "something similar to the following:\n",
      "\n",
      "    \"Please answer the questions posed to you in the Charley Challenges.\"\n",
      "\n",
      "Really, I'm not looking to humiliate anyone here, I just want some\n",
      "honest answers.  You wouldn't think that honesty would be too much to\n",
      "ask from a devout Christian, would you?  \n",
      "\n",
      "Nevermind, that was a rhetorical question.\n",
      "------------------------------------\n",
      "LABEL alt.atheism\n",
      "------------------------------------\n",
      "------------------------------------\n",
      "AW&ST  had a brief blurb on a Manned Lunar Exploration confernce\n",
      "May 7th  at Crystal City Virginia, under the auspices of AIAA.\n",
      "\n",
      "Does anyone know more about this?  How much, to attend????\n",
      "\n",
      "Anyone want to go?\n",
      "------------------------------------\n",
      "LABEL sci.space\n",
      "------------------------------------\n"
     ]
    }
   ],
   "source": [
    "def P1(num_examples=5):\n",
    "    for i in range(num_examples):\n",
    "        print('------------------------------------')\n",
    "        print(train_data[i])\n",
    "        print('------------------------------------')\n",
    "        print('LABEL', newsgroups_train.target_names[train_labels[i]])\n",
    "        print('------------------------------------')\n",
    "\n",
    "    \n",
    "P1(5)"
   ]
  },
  {
   "cell_type": "markdown",
   "metadata": {
    "colab_type": "text",
    "id": "onfno6uHFsxm"
   },
   "source": [
    "### Part 2:\n",
    "\n",
    "Transform the training data into a matrix of **word** unigram feature vectors.  What is the size of the vocabulary? What is the average number of non-zero features per example?  What is the fraction of the non-zero entries in the matrix?  What are the 0th and last feature strings (in alphabetical order)?<br/>\n",
    "_Use `CountVectorization` and its `.fit_transform` method.  Use `.nnz` and `.shape` attributes, and `.get_feature_names` method._\n",
    "\n",
    "Now transform the training data into a matrix of **word** unigram feature vectors using your own vocabulary with these 4 words: [\"atheism\", \"graphics\", \"space\", \"religion\"].  Confirm the size of the vocabulary. What is the average number of non-zero features per example?<br/>\n",
    "_Use `CountVectorization(vocabulary=...)` and its `.transform` method._\n",
    "\n",
    "Now transform the training data into a matrix of **character** bigram and trigram feature vectors.  What is the size of the vocabulary?<br/>\n",
    "_Use `CountVectorization(analyzer=..., ngram_range=...)` and its `.fit_transform` method._\n",
    "\n",
    "Now transform the training data into a matrix of **word** unigram feature vectors and prune words that appear in fewer than 10 documents.  What is the size of the vocabulary?<br/>\n",
    "_Use `CountVectorization(min_df=...)` and its `.fit_transform` method._\n",
    "\n",
    "Now again transform the training data into a matrix of **word** unigram feature vectors. What is the fraction of words in the development vocabulary that is missing from the training vocabulary?<br/>\n",
    "_Hint: Build vocabularies for both train and dev and look at the size of the difference._\n",
    "\n",
    "Notes:\n",
    "* `.fit_transform` makes 2 passes through the data: first it computes the vocabulary (\"fit\"), second it converts the raw text into feature vectors using the vocabulary (\"transform\").\n",
    "* `.fit_transform` and `.transform` return sparse matrix objects.  See about them at http://docs.scipy.org/doc/scipy-0.14.0/reference/generated/scipy.sparse.csr_matrix.html.  "
   ]
  },
  {
   "cell_type": "code",
   "execution_count": 4,
   "metadata": {
    "colab": {},
    "colab_type": "code",
    "id": "LyVwk5RvFsxn"
   },
   "outputs": [
    {
     "name": "stdout",
     "output_type": "stream",
     "text": [
      "The vocabulary size is 26879\n",
      "There are 2034 documents.\n",
      "There are 26879 terms represented in the set of documents.\n",
      "Another way of getting these counts: (2034, 26879)\n",
      "Average terms per document is 96.70599803343165\n",
      "The fraction of the non-zero entries in the matrix is 0.0035978272269590263\n",
      "The first term (alphabetically) is 00\n",
      "The last term (alphabetically) is zyxel\n",
      "The short vocabulary size is 4\n",
      "With short vocabulary, average terms per document is 0.26843657817109146\n",
      "The size of the bigram/trigram vocabulary is 510583\n",
      "The size of the pruned vocabulary is 3064\n",
      "The fraction of words in the development vocabulary that are missing from the training vocabulary 0.24787640034470024\n"
     ]
    }
   ],
   "source": [
    "def P2():\n",
    "    vectorizer = CountVectorizer()\n",
    "    data_fit = vectorizer.fit_transform(train_data)\n",
    "    print('The vocabulary size is', len(vectorizer.vocabulary_))\n",
    "    doc_array = data_fit.toarray()\n",
    "    # each entry in the array represents a document and is an array\n",
    "    print('There are', len(doc_array), 'documents.')\n",
    "    # each entry in the document array is a frequency of a particular term\n",
    "    print('There are', len(doc_array[0]), 'terms represented in the set of documents.')\n",
    "    print('Another way of getting these counts:', data_fit.shape)\n",
    "    \n",
    "    non_zero_count = [len(doc[doc>0]) for doc in doc_array]\n",
    "    print('Average terms per document is', sum(non_zero_count)/len(non_zero_count))\n",
    "\n",
    "    print('The fraction of the non-zero entries in the matrix is', \\\n",
    "          float(data_fit.nnz) / (data_fit.shape[0] * data_fit.shape[1]))\n",
    "\n",
    "    terms = vectorizer.get_feature_names()\n",
    "    print('The first term (alphabetically) is', terms[0])\n",
    "    print('The last term (alphabetically) is', terms[-1])\n",
    "\n",
    "    # transform the training data into a matrix of word unigram feature vectors \n",
    "    # using your own vocabulary with these 4 words: [\"atheism\", \"graphics\", \"space\", \"religion\"]\n",
    "    vocab = [\"atheism\", \"graphics\", \"space\", \"religion\"]\n",
    "    short_vectorizer = CountVectorizer(vocabulary=vocab)\n",
    "    print('The short vocabulary size is', len(short_vectorizer.get_feature_names()))\n",
    "    doc_array = short_vectorizer.transform(train_data).toarray()\n",
    "    non_zero_count = [len(doc[doc>0]) for doc in doc_array]\n",
    "    print('With short vocabulary, average terms per document is', sum(non_zero_count)/len(non_zero_count))\n",
    "    \n",
    "    # transform the training data into a matrix of character bigram and trigram feature vectors\n",
    "    vectorizer = CountVectorizer(analyzer='word', ngram_range=(2,3))\n",
    "    data_fit = vectorizer.fit_transform(train_data)\n",
    "    terms = vectorizer.get_feature_names()\n",
    "    print('The size of the bigram/trigram vocabulary is', len(terms))\n",
    "    \n",
    "    # transform the training data into a matrix of word unigram feature vectors \n",
    "    # and prune words that appear in fewer than 10 documents. \n",
    "    vectorizer = CountVectorizer(min_df=10)\n",
    "    data_fit = vectorizer.fit_transform(train_data)\n",
    "    terms = vectorizer.get_feature_names()\n",
    "    print('The size of the pruned vocabulary is', len(terms))\n",
    "\n",
    "    # transform the training data into a matrix of word unigram feature vectors\n",
    "    vectorizer = CountVectorizer()\n",
    "    vectorizer.fit_transform(train_data)\n",
    "    train_terms = vectorizer.get_feature_names()\n",
    "    vectorizer = CountVectorizer()\n",
    "    vectorizer.fit_transform(dev_data)\n",
    "    dev_terms = vectorizer.get_feature_names()\n",
    "    dev_not_in_train = len(set(dev_terms) - set(train_terms))\n",
    "    print('The fraction of words in the development vocabulary that are missing from the training vocabulary', \\\n",
    "         dev_not_in_train/len(dev_terms))\n",
    "    \n",
    "    \n",
    "P2()"
   ]
  },
  {
   "cell_type": "markdown",
   "metadata": {
    "colab_type": "text",
    "id": "ydjkRh6LFsxp"
   },
   "source": [
    "### Part 3:\n",
    "\n",
    "Transform the training and development data to matrices of word unigram feature vectors.\n",
    "\n",
    "1. Produce several k-Nearest Neigbors models by varying k, including one with k set to optimize f1 score.  For each model, show the k value and f1 score.\n",
    "1. Produce several Naive Bayes models by varying smoothing (alpha), including one with alpha set approximately to optimize f1 score.  For each model, show the alpha value and f1 score.\n",
    "1. Produce several Logistic Regression models by varying L2 regularization strength (C), including one with C set approximately to optimize f1 score.  For each model, show the C value, f1 score, and sum of squared weights for each topic.\n",
    "\n",
    "* Why doesn't k-Nearest Neighbors work well for this problem?\n",
    "* Why doesn't Logistic Regression work as well as Naive Bayes does?\n",
    "* What is the relationship between logistic regression's sum of squared weights vs. C value?\n",
    "\n",
    "Notes:\n",
    "* Train on the transformed training data.\n",
    "* Evaluate on the transformed development data.\n",
    "* You can use `CountVectorizer` and its `.fit_transform` and `.transform` methods to transform data.\n",
    "* You can use `KNeighborsClassifier(...)` to produce a k-Nearest Neighbors model.\n",
    "* You can use `MultinomialNB(...)` to produce a Naive Bayes model.\n",
    "* You can use `LogisticRegression(C=..., solver=\"liblinear\", multi_class=\"auto\")` to produce a Logistic Regression model.\n",
    "* You can use `LogisticRegression`'s `.coef_` method to get weights for each topic.\n",
    "* You can use `metrics.f1_score(..., average=\"weighted\")` to compute f1 score."
   ]
  },
  {
   "cell_type": "code",
   "execution_count": 5,
   "metadata": {
    "colab": {},
    "colab_type": "code",
    "id": "VvhpODdWFsxp"
   },
   "outputs": [
    {
     "name": "stdout",
     "output_type": "stream",
     "text": [
      "k nearest neighbors\n",
      "k=1, f1=0.39471048126424524\n",
      "k=3, f1=0.4230384271439681\n",
      "k=5, f1=0.44283938039620135\n",
      "k=7, f1=0.46603879404544657\n",
      "k=9, f1=0.45574370029982564\n",
      "k=11, f1=0.434233473713461\n",
      "\n",
      "multinomial naive Bayes\n",
      "alpha=1e-10, f1=0.747240657284563\n",
      "alpha=0.0001, f1=0.7628348704826354\n",
      "alpha=0.001, f1=0.7702518836155706\n",
      "alpha=0.01, f1=0.7751663218544357\n",
      "alpha=0.1, f1=0.7903052385098862\n",
      "alpha=0.5, f1=0.7862862961995258\n",
      "alpha=1.0, f1=0.7777320236017224\n",
      "alpha=2.0, f1=0.7689966472342658\n",
      "alpha=10.0, f1=0.6674814338256576\n",
      "\n",
      "logistic regression\n",
      "C=10.0, f1=0.6865669233056786\n",
      "sums of squares of weights for 4 labels=[585.9315002800115, 448.0637756267944, 539.505905695216, 530.8639414447797]\n",
      "C=2.0, f1=0.6924826561168351\n",
      "sums of squares of weights for 4 labels=[257.56044291228454, 197.89425746726914, 239.77582317384676, 226.60557338318557]\n",
      "C=1.0, f1=0.6944172871853819\n",
      "sums of squares of weights for 4 labels=[166.9673478302272, 130.92765037130744, 157.96075381943743, 145.75901208046295]\n",
      "C=0.5, f1=0.7084739776490449\n",
      "sums of squares of weights for 4 labels=[102.56050642874955, 83.1203253787874, 99.02435328211725, 88.97797184159732]\n",
      "C=0.1, f1=0.6966243542418833\n",
      "sums of squares of weights for 4 labels=[27.135625181888365, 24.65905659755163, 27.457804337287254, 23.026098570791202]\n",
      "C=0.01, f1=0.6646997417582748\n",
      "sums of squares of weights for 4 labels=[2.541350486630338, 2.939709368355749, 2.862468834187448, 2.2500287685780562]\n",
      "C=0.001, f1=0.6193046812006844\n",
      "sums of squares of weights for 4 labels=[0.1650934516680803, 0.20095274690581955, 0.18067093754401786, 0.18724278437848904]\n",
      "C=0.0001, f1=0.5416003218838589\n",
      "sums of squares of weights for 4 labels=[0.007701749446752372, 0.011941200310606564, 0.009435076865639434, 0.0091028352938319]\n",
      "C=1e-10, f1=0.20641155283594254\n",
      "sums of squares of weights for 4 labels=[5.706741834812684e-13, 8.452994740316339e-13, 4.0400698136468113e-13, 6.358194840557194e-13]\n"
     ]
    }
   ],
   "source": [
    "def knn(train_data, train_labels, dev_data, dev_labels, k=1):\n",
    "    model = KNeighborsClassifier(n_neighbors = k)\n",
    "    model.fit(train_data, train_labels)\n",
    "    predicted_labels = model.predict(dev_data)\n",
    "    f1 = f1_score(dev_labels, predicted_labels, average='weighted')\n",
    "    print(f'k={k}, f1={f1}')\n",
    "\n",
    "    \n",
    "def mnb(train_data, train_labels, dev_data, dev_labels, a=1.0):\n",
    "    model = MultinomialNB(alpha=a)\n",
    "    model.fit(train_data, train_labels)\n",
    "    predicted_labels = model.predict(dev_data)\n",
    "    f1 = f1_score(dev_labels, predicted_labels, average='weighted')\n",
    "    print(f'alpha={a}, f1={f1}')\n",
    "\n",
    "\n",
    "def lr(train_data, train_labels, dev_data, dev_labels, c=1.0):\n",
    "    model = LogisticRegression(C=c, solver=\"liblinear\", multi_class=\"auto\")\n",
    "    model.fit(train_data, train_labels)\n",
    "    predicted_labels = model.predict(dev_data)\n",
    "    f1 = f1_score(dev_labels, predicted_labels, average='weighted')\n",
    "    # model.coef_ is a 4 (labels) by (# of terms/features) matrix\n",
    "    # going to calculate the sum of the squares of the weights in each row\n",
    "    sums_of_squares = []\n",
    "    for label_weights in model.coef_:\n",
    "        squares = label_weights * label_weights\n",
    "        sums_of_squares.append(sum(squares))\n",
    "    print(f'C={c}, f1={f1}')\n",
    "    print(f'sums of squares of weights for 4 labels={sums_of_squares}')\n",
    "    \n",
    "    \n",
    "    \n",
    "def P3():\n",
    "    # Transform the training and development data to matrices of word unigram feature vectors.\n",
    "    trn_vectorizer = CountVectorizer()\n",
    "    trn_fit = trn_vectorizer.fit_transform(train_data)\n",
    "    trn_doc_array = trn_fit.toarray()\n",
    "    trn_terms = trn_vectorizer.get_feature_names()\n",
    "    dev_vectorizer = CountVectorizer(vocabulary=trn_terms)\n",
    "    dev_fit = dev_vectorizer.fit_transform(dev_data)\n",
    "    dev_doc_array = dev_fit.toarray()\n",
    "    # each row in the doc arrays represents a document and is an array of term frequency counts\n",
    "    \n",
    "    # 1. Produce several k-Nearest Neigbors models by varying k, including one with k set to optimize f1 score. \n",
    "    # For each model, show the k value and f1 score.\n",
    "    print('k nearest neighbors')\n",
    "    knn(trn_doc_array, train_labels, dev_doc_array, dev_labels, 1)\n",
    "    knn(trn_doc_array, train_labels, dev_doc_array, dev_labels, 3)\n",
    "    knn(trn_doc_array, train_labels, dev_doc_array, dev_labels, 5)\n",
    "    knn(trn_doc_array, train_labels, dev_doc_array, dev_labels, 7) # k=7 has the best f1 score\n",
    "    knn(trn_doc_array, train_labels, dev_doc_array, dev_labels, 9)\n",
    "    knn(trn_doc_array, train_labels, dev_doc_array, dev_labels, 11)\n",
    "    print()\n",
    "\n",
    "    # 2. Produce several Naive Bayes models by varying smoothing (alpha), including one with alpha set approximately \n",
    "    # to optimize f1 score. For each model, show the alpha value and f1 score.\n",
    "    print('multinomial naive Bayes')\n",
    "    mnb(trn_doc_array, train_labels, dev_doc_array, dev_labels, 1.0e-10)\n",
    "    mnb(trn_doc_array, train_labels, dev_doc_array, dev_labels, 0.0001)\n",
    "    mnb(trn_doc_array, train_labels, dev_doc_array, dev_labels, 0.001)\n",
    "    mnb(trn_doc_array, train_labels, dev_doc_array, dev_labels, 0.01)\n",
    "    mnb(trn_doc_array, train_labels, dev_doc_array, dev_labels, 0.1) # alpha=0.1 has the best f1 score\n",
    "    mnb(trn_doc_array, train_labels, dev_doc_array, dev_labels, 0.5)\n",
    "    mnb(trn_doc_array, train_labels, dev_doc_array, dev_labels, 1.0)\n",
    "    mnb(trn_doc_array, train_labels, dev_doc_array, dev_labels, 2.0)\n",
    "    mnb(trn_doc_array, train_labels, dev_doc_array, dev_labels, 10.0)\n",
    "    print()\n",
    "    \n",
    "    # 3. Produce several Logistic Regression models by varying L2 regularization strength (C), including one with C \n",
    "    # set approximately to optimize f1 score. For each model, show the C value, f1 score, and sum of squared \n",
    "    # weights for each topic.    \n",
    "    print('logistic regression')\n",
    "    lr(trn_doc_array, train_labels, dev_doc_array, dev_labels, 10.0)\n",
    "    lr(trn_doc_array, train_labels, dev_doc_array, dev_labels, 2.0)\n",
    "    lr(trn_doc_array, train_labels, dev_doc_array, dev_labels, 1.0)\n",
    "    lr(trn_doc_array, train_labels, dev_doc_array, dev_labels, 0.5) # C=0.5 has the best f1 score\n",
    "    lr(trn_doc_array, train_labels, dev_doc_array, dev_labels, 0.1)\n",
    "    lr(trn_doc_array, train_labels, dev_doc_array, dev_labels, 0.01)\n",
    "    lr(trn_doc_array, train_labels, dev_doc_array, dev_labels, 0.001)\n",
    "    lr(trn_doc_array, train_labels, dev_doc_array, dev_labels, 0.0001)\n",
    "    lr(trn_doc_array, train_labels, dev_doc_array, dev_labels, 1.0e-10)\n",
    "\n",
    "    \n",
    "P3()"
   ]
  },
  {
   "cell_type": "markdown",
   "metadata": {
    "colab_type": "text",
    "id": "jWtXwAlOFsxr"
   },
   "source": [
    "ANSWERS:\n",
    "\n",
    "*4. Why doesn't k-Nearest Neighbors work well for this problem?*\n",
    "\n",
    "I think it is because the vectors are so long and sparse. Documents with the same label could be far from each other if they just share a few representative terms in common, and a document with a different label could be closer because it shares more general terms.\n",
    "\n",
    "*5. Why doesn't Logistic Regression work as well as Naive Bayes does?*\n",
    "\n",
    "My guess is that it is because Logistic Regression is still a linear model that has to compute a coefficient for each term. Small non-zero coefficients for several terms will add up and cause the output probability to be higher. Also, having two occurrenced of a term will add the coefficent twice. There may not be a linear relationship like this in the training data. Naive Bayes multiplies the observed probabilities of each term with the probability of each term given each of the classes. No linear relationship is assumed.\n",
    "\n",
    "*6. What is the relationship between logistic regression's sum of squared weights vs. C value?*\n",
    "\n",
    "The smaller the C value (inverse of lambda), the greater the penalty for a large weight, so as C gets smaller, so does the magnitude of the weights."
   ]
  },
  {
   "cell_type": "markdown",
   "metadata": {
    "colab_type": "text",
    "id": "dGEjsm_uFsxr"
   },
   "source": [
    "### Part 4:\n",
    "\n",
    "Transform the data to a matrix of word **bigram** feature vectors.  Produce a Logistic Regression model.  For each topic, find the 5 features with the largest weights (that's 20 features in total).  Show a 20 row (features) x 4 column (topics) table of the weights.\n",
    "\n",
    "Do you see any surprising features in this table?\n",
    "\n",
    "Notes:\n",
    "* Train on the transformed training data.\n",
    "* You can use `CountVectorizer` and its `.fit_transform` method to transform data.\n",
    "* You can use `LogisticRegression(C=0.5, solver=\"liblinear\", multi_class=\"auto\")` to produce a Logistic Regression model.\n",
    "* You can use `LogisticRegression`'s `.coef_` method to get weights for each topic.\n",
    "* You can use `np.argsort` to get indices sorted by element value. "
   ]
  },
  {
   "cell_type": "code",
   "execution_count": 20,
   "metadata": {
    "colab": {},
    "colab_type": "code",
    "id": "WN51Nv4fFsxs"
   },
   "outputs": [
    {
     "name": "stdout",
     "output_type": "stream",
     "text": [
      "bigram          topic 0  topic 1  topic 2  topic 3 \n",
      "=============== ======== ======== ======== ========\n",
      "you are          0.47274 -0.27991 -0.48145  0.02836\n",
      "was just         0.48205 -0.13142 -0.12886 -0.22747\n",
      "cheers kent      0.55572 -0.69790 -0.66379  0.53481\n",
      "claim that       0.60555 -0.19904 -0.27439 -0.14037\n",
      "looking for     -0.63034  1.10837 -0.49993 -0.57186\n",
      "===================================================\n",
      "is there        -0.34088  0.75498 -0.46825 -0.25708\n",
      "out there       -0.27480  0.75868 -0.47902 -0.27709\n",
      "comp graphics   -0.29217  0.80120 -0.37090 -0.28518\n",
      "in advance      -0.45935  0.83257 -0.43849 -0.41845\n",
      "looking for     -0.63034  1.10837 -0.49993 -0.57186\n",
      "===================================================\n",
      "and such        -0.20427 -0.33752  0.59056 -0.21820\n",
      "sci space       -0.25801 -0.32915  0.62112 -0.22125\n",
      "cheers kent      0.55572 -0.69790 -0.66379  0.53481\n",
      "the moon        -0.35056 -0.49272  0.83122 -0.21379\n",
      "the space       -0.26819 -0.53009  0.87115 -0.27384\n",
      "===================================================\n",
      "ignorance is    -0.15801 -0.17107 -0.13958  0.50431\n",
      "does anyone     -0.37977  0.43286  0.03561 -0.51641\n",
      "cheers kent      0.55572 -0.69790 -0.66379  0.53481\n",
      "the fbi         -0.13197 -0.21134 -0.29533  0.55200\n",
      "looking for     -0.63034  1.10837 -0.49993 -0.57186\n",
      "===================================================\n"
     ]
    }
   ],
   "source": [
    "def P4():\n",
    "    # Transform the data to a matrix of word bigram feature vectors. \n",
    "    # (You can use CountVectorizer and its .fit_transform method to transform data.)\n",
    "    trn_vectorizer = CountVectorizer(ngram_range=(2,2))\n",
    "    trn_fit = trn_vectorizer.fit_transform(train_data)\n",
    "    trn_doc_array = trn_fit.toarray()\n",
    "    trn_terms = trn_vectorizer.get_feature_names()\n",
    "    \n",
    "    # Produce a Logistic Regression model. (Train on the transformed training data.)\n",
    "    # (You can use LogisticRegression(C=0.5, solver=\"liblinear\", multi_class=\"auto\"))\n",
    "    model = LogisticRegression(C=0.5, solver=\"liblinear\", multi_class=\"auto\")\n",
    "    model.fit(trn_doc_array, train_labels)\n",
    "    \n",
    "    # For each topic, find the 5 features with the largest weights (that's 20 features in total). \n",
    "    # (You can use LogisticRegression's .coef_ method to get weights for each topic.)\n",
    "    # (You can use np.argsort to get indices sorted by element value.)\n",
    "    # coef_ is an ndarray of shape #topics by #bigrams\n",
    "    topic_top5 = []\n",
    "    for i in range(4):\n",
    "        # topic i top 5 weight indices\n",
    "        topic_top5.append(np.argsort(abs(model.coef_[i,:]))[-5:])\n",
    "\n",
    "    # (Show a 20 row (features) x 4 column (topics) table of the weights.)\n",
    "    print('bigram          topic 0  topic 1  topic 2  topic 3 ')\n",
    "    print('=============== ======== ======== ======== ========')\n",
    "    for top5_wt in topic_top5: \n",
    "        for wt_ind in top5_wt:\n",
    "            row = model.coef_[:, wt_ind]\n",
    "            print(f'{trn_terms[wt_ind]:15} {row[0]:8.5f} {row[1]:8.5f} {row[2]:8.5f} {row[3]:8.5f}')\n",
    "        print('===================================================')\n",
    "\n",
    "P4()"
   ]
  },
  {
   "cell_type": "markdown",
   "metadata": {
    "colab_type": "text",
    "id": "cY67F-tXFsxt"
   },
   "source": [
    "* Do you see any surprising features in this table? *\n",
    "\n",
    "ANSWER: Yes, many of the top 5 bigrams are shared by one or more topics. They sometimes have an opposite sign in the other topic(s), but not always. Also, some of the top 5 bigrams don't seem to have much content, such as \"you are\", \"was just\", \"and such\", and \"does anyone\". Maybe this is due to too small a sample size. Also, some of the coefficients in the top 5 are negative, meaning having that bigram would greatly reduce the probability of being from that particular category."
   ]
  },
  {
   "cell_type": "markdown",
   "metadata": {
    "colab_type": "text",
    "id": "rVWhSJHHFsxu"
   },
   "source": [
    "### Part 5:\n",
    "\n",
    "To improve generalization, it is common to try preprocessing text in various ways before splitting into words. For example, you could try transforming strings to lower case, replacing sequences of numbers with single tokens, removing various non-letter characters, and shortening long words.\n",
    "\n",
    "Produce a Logistic Regression model (with no preprocessing of text).  Evaluate and show its f1 score and size of the dictionary.\n",
    "\n",
    "Produce an improved Logistic Regression model by preprocessing the text.  Evaluate and show its f1 score and size of the vocabulary.  Try for an improvement in f1 score of at least 0.02.\n",
    "\n",
    "How much did the improved model reduce the vocabulary size?\n",
    "\n",
    "Notes:\n",
    "* Train on the transformed training data.\n",
    "* Evaluate on the transformed development data.\n",
    "* You can use `CountVectorizer(preprocessor=...)` to preprocess strings with your own custom-defined function.\n",
    "* `CountVectorizer` default is to preprocess strings to lower case.\n",
    "* You can use `LogisticRegression(C=0.5, solver=\"liblinear\", multi_class=\"auto\")` to produce a logistic regression model.\n",
    "* You can use `metrics.f1_score(..., average=\"weighted\")` to compute f1 score.\n",
    "* If you're not already familiar with regular expressions for manipulating strings, see https://docs.python.org/2/library/re.html, and re.sub() in particular."
   ]
  },
  {
   "cell_type": "code",
   "execution_count": 7,
   "metadata": {
    "colab": {},
    "colab_type": "code",
    "id": "l7gS3cGpFsxv"
   },
   "outputs": [],
   "source": [
    "#def better_preprocessor(s):\n",
    "    ### STUDENT START ###\n",
    "    ### STUDENT END ###\n",
    "\n",
    "#def P5():\n",
    "    ### STUDENT START ###\n",
    "    ### STUDENT END ###\n",
    "\n",
    "#P5()"
   ]
  },
  {
   "cell_type": "markdown",
   "metadata": {
    "colab_type": "text",
    "id": "Uy-WITbNFsxw"
   },
   "source": [
    "### Part 6:\n",
    "\n",
    "The idea of regularization is to avoid learning very large weights (which are likely to fit the training data, but not generalize well) by adding a penalty to the total size of the learned weights. Logistic regression seeks the set of weights that minimizes errors in the training data AND has a small total size. The default L2 regularization computes this size as the sum of the squared weights (as in Part 3 above). L1 regularization computes this size as the sum of the absolute values of the weights. Whereas L2 regularization makes all the weights relatively small, L1 regularization drives many of the weights to 0, effectively removing unimportant features.\n",
    "\n",
    "For several L1 regularization strengths ...<br/>\n",
    "* Produce a Logistic Regression model using the **L1** regularization strength.  Reduce the vocabulary to only those features that have at least one non-zero weight among the four categories.  Produce a new Logistic Regression model using the reduced vocabulary and **L2** regularization strength of 0.5.  Evaluate and show the L1 regularization strength, vocabulary size, and f1 score associated with the new model.\n",
    "\n",
    "Show a plot of f1 score vs. log vocabulary size.  Each point corresponds to a specific L1 regularization strength used to reduce the vocabulary.\n",
    "\n",
    "How does performance of the models based on reduced vocabularies compare to that of a model based on the full vocabulary?\n",
    "\n",
    "Notes:\n",
    "* Train on the transformed training data.\n",
    "* Evaluate on the transformed development data.\n",
    "* You can use `LogisticRegression(..., penalty=\"l1\")` to produce a logistic regression model using L1 regularization.\n",
    "* You can use `LogisticRegression(..., penalty=\"l2\")` to produce a logistic regression model using L2 regularization.\n",
    "* You can use `LogisticRegression(..., tol=0.015)` to produce a logistic regression model using relaxed gradient descent convergence criteria.  The gradient descent code that trains the logistic regression model sometimes has trouble converging with extreme settings of the C parameter. Relax the convergence criteria by setting tol=.015 (the default is .0001)."
   ]
  },
  {
   "cell_type": "code",
   "execution_count": 8,
   "metadata": {
    "colab": {},
    "colab_type": "code",
    "id": "l6ho31SrFsxx"
   },
   "outputs": [],
   "source": [
    "#def P6():\n",
    "    # Keep this random seed here to make comparison easier.\n",
    "    #np.random.seed(0)\n",
    "    \n",
    "    ### STUDENT START ###\n",
    "    ### STUDENT END ###\n",
    "\n",
    "#P6()"
   ]
  },
  {
   "cell_type": "markdown",
   "metadata": {
    "colab_type": "text",
    "id": "bZmIPwExFsx1"
   },
   "source": [
    "ANSWER:"
   ]
  },
  {
   "cell_type": "markdown",
   "metadata": {
    "colab_type": "text",
    "id": "QmrHf8AMFsxz"
   },
   "source": [
    "### Part 7:\n",
    "\n",
    "How is `TfidfVectorizer` different than `CountVectorizer`?\n",
    "\n",
    "Produce a Logistic Regression model based on data represented in tf-idf form, with L2 regularization strength of 100.  Evaluate and show the f1 score.  How is `TfidfVectorizer` different than `CountVectorizer`?\n",
    "\n",
    "Show the 3 documents with highest R ratio, where ...<br/>\n",
    "$R\\,ratio = maximum\\,predicted\\,probability \\div predicted\\,probability\\,of\\,correct\\,label$\n",
    "\n",
    "Explain what the R ratio describes.  What kinds of mistakes is the model making? Suggest a way to address one particular issue that you see.\n",
    "\n",
    "Note:\n",
    "* Train on the transformed training data.\n",
    "* Evaluate on the transformed development data.\n",
    "* You can use `TfidfVectorizer` and its `.fit_transform` method to transform data to tf-idf form.\n",
    "* You can use `LogisticRegression(C=100, solver=\"liblinear\", multi_class=\"auto\")` to produce a logistic regression model.\n",
    "* You can use `LogisticRegression`'s `.predict_proba` method to access predicted probabilities."
   ]
  },
  {
   "cell_type": "code",
   "execution_count": 9,
   "metadata": {
    "colab": {},
    "colab_type": "code",
    "id": "8vwU_9t2Fsx0"
   },
   "outputs": [],
   "source": [
    "#def P7():\n",
    "    ### STUDENT START ###\n",
    "    ### STUDENT END ###\n",
    "\n",
    "#P7()"
   ]
  },
  {
   "cell_type": "markdown",
   "metadata": {
    "colab_type": "text",
    "id": "bZmIPwExFsx1"
   },
   "source": [
    "ANSWER:"
   ]
  },
  {
   "cell_type": "markdown",
   "metadata": {
    "colab_type": "text",
    "id": "VmsDxtzoFsx1"
   },
   "source": [
    "### Part 8 EXTRA CREDIT:\n",
    "\n",
    "Produce a Logistic Regression model to implement your suggestion from Part 7."
   ]
  },
  {
   "cell_type": "code",
   "execution_count": null,
   "metadata": {
    "colab": {},
    "colab_type": "code",
    "id": "ZMaqe8c5Fsx2"
   },
   "outputs": [],
   "source": []
  }
 ],
 "metadata": {
  "colab": {
   "collapsed_sections": [],
   "name": "firstname_lastname_p2.ipynb",
   "private_outputs": true,
   "provenance": [
    {
     "file_id": "https://github.com/MIDS-W207/Master/blob/master/Projects/firstname_lastname_p2.ipynb",
     "timestamp": 1559779272103
    }
   ],
   "version": "0.3.2"
  },
  "kernelspec": {
   "display_name": "Python 3",
   "language": "python",
   "name": "python3"
  },
  "language_info": {
   "codemirror_mode": {
    "name": "ipython",
    "version": 3
   },
   "file_extension": ".py",
   "mimetype": "text/x-python",
   "name": "python",
   "nbconvert_exporter": "python",
   "pygments_lexer": "ipython3",
   "version": "3.7.6"
  },
  "toc": {
   "base_numbering": 1,
   "nav_menu": {},
   "number_sections": false,
   "sideBar": true,
   "skip_h1_title": true,
   "title_cell": "Table of Contents",
   "title_sidebar": "Contents",
   "toc_cell": false,
   "toc_position": {},
   "toc_section_display": true,
   "toc_window_display": false
  }
 },
 "nbformat": 4,
 "nbformat_minor": 1
}
